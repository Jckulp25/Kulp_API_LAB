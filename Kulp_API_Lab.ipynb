{
 "cells": [
  {
   "cell_type": "code",
   "execution_count": null,
   "id": "ca0da3e7-0f52-4bc9-a9e8-315086758242",
   "metadata": {},
   "outputs": [],
   "source": [
    "#Question 1"
   ]
  },
  {
   "cell_type": "code",
   "execution_count": 28,
   "id": "bb2c4a52-44d3-4566-be28-94cc787ba26e",
   "metadata": {
    "tags": []
   },
   "outputs": [],
   "source": [
    "import pandas as pd\n",
    "import urllib.request\n",
    "import json\n",
    "import pickle\n",
    "import matplotlib.pyplot as plt"
   ]
  },
  {
   "cell_type": "code",
   "execution_count": 14,
   "id": "01af10d2-6d41-438b-8d1f-e3b2040d1ed0",
   "metadata": {
    "tags": []
   },
   "outputs": [],
   "source": [
    "url = 'https://www.saferproducts.gov/RestWebServices/Recall'\n",
    "query = '?format=json&RecallTitle=Gas'\n",
    "response = urllib.request.urlopen(url+query)\n",
    "response_bytes = response.read()\n",
    "data = json.loads(response_bytes)\n",
    "response.close() \n",
    "with open('json_data.pkl', 'wb') as file:\n",
    "    pickle.dump(data, file)"
   ]
  },
  {
   "cell_type": "code",
   "execution_count": null,
   "id": "0b1ed550-ebe1-4851-9f56-479b2d7bda6f",
   "metadata": {},
   "outputs": [],
   "source": [
    "#Question 2"
   ]
  },
  {
   "cell_type": "code",
   "execution_count": 15,
   "id": "0a1a72cc-c38f-4244-bda3-5fa05b5d156b",
   "metadata": {
    "tags": []
   },
   "outputs": [
    {
     "name": "stdout",
     "output_type": "stream",
     "text": [
      "(216, 22)\n"
     ]
    },
    {
     "data": {
      "text/html": [
       "<div>\n",
       "<style scoped>\n",
       "    .dataframe tbody tr th:only-of-type {\n",
       "        vertical-align: middle;\n",
       "    }\n",
       "\n",
       "    .dataframe tbody tr th {\n",
       "        vertical-align: top;\n",
       "    }\n",
       "\n",
       "    .dataframe thead th {\n",
       "        text-align: right;\n",
       "    }\n",
       "</style>\n",
       "<table border=\"1\" class=\"dataframe\">\n",
       "  <thead>\n",
       "    <tr style=\"text-align: right;\">\n",
       "      <th></th>\n",
       "      <th>RecallID</th>\n",
       "      <th>RecallNumber</th>\n",
       "      <th>RecallDate</th>\n",
       "      <th>Description</th>\n",
       "      <th>URL</th>\n",
       "      <th>Title</th>\n",
       "      <th>ConsumerContact</th>\n",
       "      <th>LastPublishDate</th>\n",
       "      <th>Products</th>\n",
       "      <th>Inconjunctions</th>\n",
       "      <th>...</th>\n",
       "      <th>Manufacturers</th>\n",
       "      <th>Retailers</th>\n",
       "      <th>Importers</th>\n",
       "      <th>Distributors</th>\n",
       "      <th>SoldAtLabel</th>\n",
       "      <th>ManufacturerCountries</th>\n",
       "      <th>ProductUPCs</th>\n",
       "      <th>Hazards</th>\n",
       "      <th>Remedies</th>\n",
       "      <th>RemedyOptions</th>\n",
       "    </tr>\n",
       "  </thead>\n",
       "  <tbody>\n",
       "    <tr>\n",
       "      <th>0</th>\n",
       "      <td>10024</td>\n",
       "      <td>24329</td>\n",
       "      <td>2024-08-01T00:00:00</td>\n",
       "      <td>This recall involves two ECHO 59.7cc gas-power...</td>\n",
       "      <td>https://www.cpsc.gov/Recalls/2024/ECHO-Recalls...</td>\n",
       "      <td>ECHO Recalls Gas-Powered Backpack Blowers Due ...</td>\n",
       "      <td>ECHO at 800-432-3246 from 8 a.m. to 4:30 p.m. ...</td>\n",
       "      <td>2024-08-01T00:00:00</td>\n",
       "      <td>[{'Name': 'ECHO gas-powered backpack blowers',...</td>\n",
       "      <td>[]</td>\n",
       "      <td>...</td>\n",
       "      <td>[{'Name': 'ECHO Inc., of Lake Zurich, Illinois...</td>\n",
       "      <td>[{'Name': 'Golden Eagle Distributing Company, ...</td>\n",
       "      <td>[]</td>\n",
       "      <td>[]</td>\n",
       "      <td>None</td>\n",
       "      <td>[{'Country': 'United States'}]</td>\n",
       "      <td>[]</td>\n",
       "      <td>[{'Name': 'The fuel supply line can leak gas, ...</td>\n",
       "      <td>[{'Name': 'Consumers should immediately stop u...</td>\n",
       "      <td>[{'Option': 'Repair'}]</td>\n",
       "    </tr>\n",
       "    <tr>\n",
       "      <th>1</th>\n",
       "      <td>10004</td>\n",
       "      <td>24303</td>\n",
       "      <td>2024-07-11T00:00:00</td>\n",
       "      <td>This recall involves TonGass 8-inch round pool...</td>\n",
       "      <td>https://www.cpsc.gov/Recalls/2024/TonGass-Pool...</td>\n",
       "      <td>TonGass Pool Drain Covers Recalled Due to Viol...</td>\n",
       "      <td>TonGass email at tongass@126.com, online at Am...</td>\n",
       "      <td>2024-07-11T00:00:00</td>\n",
       "      <td>[{'Name': 'TonGass pool drain covers', 'Descri...</td>\n",
       "      <td>[]</td>\n",
       "      <td>...</td>\n",
       "      <td>[]</td>\n",
       "      <td>[{'Name': 'Exclusively online at www.amazon.co...</td>\n",
       "      <td>[{'Name': 'Oneida International Ltd., dba TonG...</td>\n",
       "      <td>[]</td>\n",
       "      <td>None</td>\n",
       "      <td>[{'Country': 'China'}]</td>\n",
       "      <td>[]</td>\n",
       "      <td>[{'Name': 'The recalled drain covers do not co...</td>\n",
       "      <td>[{'Name': 'Pool owners/operators and consumers...</td>\n",
       "      <td>[{'Option': 'Refund'}]</td>\n",
       "    </tr>\n",
       "    <tr>\n",
       "      <th>2</th>\n",
       "      <td>9926</td>\n",
       "      <td>24201</td>\n",
       "      <td>2024-04-18T00:00:00</td>\n",
       "      <td>This recall involves Gasaciods children's mult...</td>\n",
       "      <td>https://www.cpsc.gov/Recalls/2024/Gasaciods-Ch...</td>\n",
       "      <td>Gasaciods Children's Helmets Recalled Due to R...</td>\n",
       "      <td>Fengwang Sports via email at george66305@163.c...</td>\n",
       "      <td>2024-04-18T00:00:00</td>\n",
       "      <td>[{'Name': 'Gasaciods Children's Multi-Purpose ...</td>\n",
       "      <td>[]</td>\n",
       "      <td>...</td>\n",
       "      <td>[]</td>\n",
       "      <td>[{'Name': 'Online at Temu.com from July 2023 t...</td>\n",
       "      <td>[{'Name': 'Dongguan Feng Wang Sports Goods Co....</td>\n",
       "      <td>[]</td>\n",
       "      <td>None</td>\n",
       "      <td>[{'Country': 'China'}]</td>\n",
       "      <td>[]</td>\n",
       "      <td>[{'Name': 'The helmets do not comply with the ...</td>\n",
       "      <td>[{'Name': 'Consumers should immediately stop u...</td>\n",
       "      <td>[{'Option': 'Refund'}]</td>\n",
       "    </tr>\n",
       "    <tr>\n",
       "      <th>3</th>\n",
       "      <td>9927</td>\n",
       "      <td>24202</td>\n",
       "      <td>2024-04-18T00:00:00</td>\n",
       "      <td>This recall involves 750mL and 1500mL sizes of...</td>\n",
       "      <td>https://www.cpsc.gov/Recalls/2024/Randder-Liqu...</td>\n",
       "      <td>Randder Liquid Fuel Bottles Recalled Due to Ri...</td>\n",
       "      <td>Email at catherine0216@outlook.com, or online ...</td>\n",
       "      <td>2024-04-18T00:00:00</td>\n",
       "      <td>[{'Name': 'Randder 2-Pack Liquid Fuel Bottles'...</td>\n",
       "      <td>[]</td>\n",
       "      <td>...</td>\n",
       "      <td>[]</td>\n",
       "      <td>[{'Name': 'Amazon.com from September 2022 thro...</td>\n",
       "      <td>[]</td>\n",
       "      <td>[{'Name': 'Shenzhenshi Rande Keji Youxian Gong...</td>\n",
       "      <td>None</td>\n",
       "      <td>[{'Country': 'China'}]</td>\n",
       "      <td>[]</td>\n",
       "      <td>[{'Name': 'The portable fuel containers do not...</td>\n",
       "      <td>[{'Name': 'Consumers should immediately stop u...</td>\n",
       "      <td>[{'Option': 'Repair'}]</td>\n",
       "    </tr>\n",
       "    <tr>\n",
       "      <th>4</th>\n",
       "      <td>9918</td>\n",
       "      <td>24192</td>\n",
       "      <td>2024-04-11T00:00:00</td>\n",
       "      <td>This recall involves BRS portable liquid fuel ...</td>\n",
       "      <td>https://www.cpsc.gov/Recalls/2024/BRS-Liquid-F...</td>\n",
       "      <td>BRS Liquid Fuel Bottles Recalled Due to Risk o...</td>\n",
       "      <td>Email at chencaiyu1994@hotmail.com, or online ...</td>\n",
       "      <td>2024-04-11T00:00:00</td>\n",
       "      <td>[{'Name': 'BRS Liquid Fuel Bottles', 'Descript...</td>\n",
       "      <td>[]</td>\n",
       "      <td>...</td>\n",
       "      <td>[]</td>\n",
       "      <td>[{'Name': 'Amazon.com from October 2018 throug...</td>\n",
       "      <td>[]</td>\n",
       "      <td>[{'Name': 'Huenco, of China', 'CompanyID': ''}]</td>\n",
       "      <td>None</td>\n",
       "      <td>[{'Country': 'China'}]</td>\n",
       "      <td>[]</td>\n",
       "      <td>[{'Name': 'The portable fuel bottles do not me...</td>\n",
       "      <td>[{'Name': 'Consumers should immediately stop u...</td>\n",
       "      <td>[{'Option': 'Refund'}]</td>\n",
       "    </tr>\n",
       "  </tbody>\n",
       "</table>\n",
       "<p>5 rows × 22 columns</p>\n",
       "</div>"
      ],
      "text/plain": [
       "   RecallID RecallNumber           RecallDate  \\\n",
       "0     10024        24329  2024-08-01T00:00:00   \n",
       "1     10004        24303  2024-07-11T00:00:00   \n",
       "2      9926        24201  2024-04-18T00:00:00   \n",
       "3      9927        24202  2024-04-18T00:00:00   \n",
       "4      9918        24192  2024-04-11T00:00:00   \n",
       "\n",
       "                                         Description  \\\n",
       "0  This recall involves two ECHO 59.7cc gas-power...   \n",
       "1  This recall involves TonGass 8-inch round pool...   \n",
       "2  This recall involves Gasaciods children's mult...   \n",
       "3  This recall involves 750mL and 1500mL sizes of...   \n",
       "4  This recall involves BRS portable liquid fuel ...   \n",
       "\n",
       "                                                 URL  \\\n",
       "0  https://www.cpsc.gov/Recalls/2024/ECHO-Recalls...   \n",
       "1  https://www.cpsc.gov/Recalls/2024/TonGass-Pool...   \n",
       "2  https://www.cpsc.gov/Recalls/2024/Gasaciods-Ch...   \n",
       "3  https://www.cpsc.gov/Recalls/2024/Randder-Liqu...   \n",
       "4  https://www.cpsc.gov/Recalls/2024/BRS-Liquid-F...   \n",
       "\n",
       "                                               Title  \\\n",
       "0  ECHO Recalls Gas-Powered Backpack Blowers Due ...   \n",
       "1  TonGass Pool Drain Covers Recalled Due to Viol...   \n",
       "2  Gasaciods Children's Helmets Recalled Due to R...   \n",
       "3  Randder Liquid Fuel Bottles Recalled Due to Ri...   \n",
       "4  BRS Liquid Fuel Bottles Recalled Due to Risk o...   \n",
       "\n",
       "                                     ConsumerContact      LastPublishDate  \\\n",
       "0  ECHO at 800-432-3246 from 8 a.m. to 4:30 p.m. ...  2024-08-01T00:00:00   \n",
       "1  TonGass email at tongass@126.com, online at Am...  2024-07-11T00:00:00   \n",
       "2  Fengwang Sports via email at george66305@163.c...  2024-04-18T00:00:00   \n",
       "3  Email at catherine0216@outlook.com, or online ...  2024-04-18T00:00:00   \n",
       "4  Email at chencaiyu1994@hotmail.com, or online ...  2024-04-11T00:00:00   \n",
       "\n",
       "                                            Products Inconjunctions  ...  \\\n",
       "0  [{'Name': 'ECHO gas-powered backpack blowers',...             []  ...   \n",
       "1  [{'Name': 'TonGass pool drain covers', 'Descri...             []  ...   \n",
       "2  [{'Name': 'Gasaciods Children's Multi-Purpose ...             []  ...   \n",
       "3  [{'Name': 'Randder 2-Pack Liquid Fuel Bottles'...             []  ...   \n",
       "4  [{'Name': 'BRS Liquid Fuel Bottles', 'Descript...             []  ...   \n",
       "\n",
       "                                       Manufacturers  \\\n",
       "0  [{'Name': 'ECHO Inc., of Lake Zurich, Illinois...   \n",
       "1                                                 []   \n",
       "2                                                 []   \n",
       "3                                                 []   \n",
       "4                                                 []   \n",
       "\n",
       "                                           Retailers  \\\n",
       "0  [{'Name': 'Golden Eagle Distributing Company, ...   \n",
       "1  [{'Name': 'Exclusively online at www.amazon.co...   \n",
       "2  [{'Name': 'Online at Temu.com from July 2023 t...   \n",
       "3  [{'Name': 'Amazon.com from September 2022 thro...   \n",
       "4  [{'Name': 'Amazon.com from October 2018 throug...   \n",
       "\n",
       "                                           Importers  \\\n",
       "0                                                 []   \n",
       "1  [{'Name': 'Oneida International Ltd., dba TonG...   \n",
       "2  [{'Name': 'Dongguan Feng Wang Sports Goods Co....   \n",
       "3                                                 []   \n",
       "4                                                 []   \n",
       "\n",
       "                                        Distributors SoldAtLabel  \\\n",
       "0                                                 []        None   \n",
       "1                                                 []        None   \n",
       "2                                                 []        None   \n",
       "3  [{'Name': 'Shenzhenshi Rande Keji Youxian Gong...        None   \n",
       "4    [{'Name': 'Huenco, of China', 'CompanyID': ''}]        None   \n",
       "\n",
       "            ManufacturerCountries ProductUPCs  \\\n",
       "0  [{'Country': 'United States'}]          []   \n",
       "1          [{'Country': 'China'}]          []   \n",
       "2          [{'Country': 'China'}]          []   \n",
       "3          [{'Country': 'China'}]          []   \n",
       "4          [{'Country': 'China'}]          []   \n",
       "\n",
       "                                             Hazards  \\\n",
       "0  [{'Name': 'The fuel supply line can leak gas, ...   \n",
       "1  [{'Name': 'The recalled drain covers do not co...   \n",
       "2  [{'Name': 'The helmets do not comply with the ...   \n",
       "3  [{'Name': 'The portable fuel containers do not...   \n",
       "4  [{'Name': 'The portable fuel bottles do not me...   \n",
       "\n",
       "                                            Remedies           RemedyOptions  \n",
       "0  [{'Name': 'Consumers should immediately stop u...  [{'Option': 'Repair'}]  \n",
       "1  [{'Name': 'Pool owners/operators and consumers...  [{'Option': 'Refund'}]  \n",
       "2  [{'Name': 'Consumers should immediately stop u...  [{'Option': 'Refund'}]  \n",
       "3  [{'Name': 'Consumers should immediately stop u...  [{'Option': 'Repair'}]  \n",
       "4  [{'Name': 'Consumers should immediately stop u...  [{'Option': 'Refund'}]  \n",
       "\n",
       "[5 rows x 22 columns]"
      ]
     },
     "execution_count": 15,
     "metadata": {},
     "output_type": "execute_result"
    }
   ],
   "source": [
    "df = pd.DataFrame.from_dict(data)\n",
    "print(df.shape)\n",
    "df.head()"
   ]
  },
  {
   "cell_type": "code",
   "execution_count": 21,
   "id": "db663e6a-d4ab-4593-8c96-bb373a8c4da4",
   "metadata": {
    "tags": []
   },
   "outputs": [
    {
     "data": {
      "text/plain": [
       "mnf_country\n",
       "United States                             61\n",
       "China                                     53\n",
       "                                          49\n",
       "Canada                                    12\n",
       "Mexico                                     9\n",
       "Taiwan                                     8\n",
       "['China', 'Hong Kong']                     4\n",
       "Austria                                    2\n",
       "Japan                                      2\n",
       "['China', 'Hong Kong', 'South Africa']     2\n",
       "Germany                                    2\n",
       "['Canada (heater)', 'Mexico (valve)']      1\n",
       "Romania                                    1\n",
       "Belgium                                    1\n",
       "Israel                                     1\n",
       "['Taiwan', 'United States']                1\n",
       "India                                      1\n",
       "South Korea                                1\n",
       "Czech Republic                             1\n",
       "Costa Rica                                 1\n",
       "Italy                                      1\n",
       "['China', 'Thailand']                      1\n",
       "United Kingdom                             1\n",
       "Name: count, dtype: int64"
      ]
     },
     "execution_count": 21,
     "metadata": {},
     "output_type": "execute_result"
    }
   ],
   "source": [
    "temp = df['ManufacturerCountries']\n",
    "clean_values = []\n",
    "for i in range(len(temp)):\n",
    "    if len(temp[i])==1 :\n",
    "        clean_values.append( str(temp[i][0]['Country']) )\n",
    "    elif len(temp[i])>1:\n",
    "        countries = []\n",
    "        for j in range(len(temp[i])):\n",
    "            countries.append( temp[i][j]['Country'] )\n",
    "        clean_values.append( str(countries) )\n",
    "    else:\n",
    "        clean_values.append('')\n",
    "df['mnf_country'] = clean_values\n",
    "df['mnf_country'].value_counts()"
   ]
  },
  {
   "cell_type": "code",
   "execution_count": null,
   "id": "844d292b-725a-46cf-b7e9-6144564a5b7c",
   "metadata": {},
   "outputs": [],
   "source": [
    "#Question 3"
   ]
  },
  {
   "cell_type": "code",
   "execution_count": 22,
   "id": "e6d817d1-4477-4edc-ba48-e4891e39f030",
   "metadata": {
    "tags": []
   },
   "outputs": [],
   "source": [
    "def flatten(var):\n",
    "    \"\"\" Flattens a value, recursively concatenating dictionary values. \"\"\"\n",
    "    temp = df[var] # Get column from the dataframe\n",
    "    clean_values = [] # List for new values\n",
    "    key = [*temp[0][0]][0] # Get dictionary key\n",
    "    for i in range(len(temp)):\n",
    "        if len(temp[i])==1 : # Only one entry in the value\n",
    "            clean_values.append( str(temp[i][0][key]) ) # Convert to string and append\n",
    "        elif len(temp[i])>1: # Multiple entries in the value to flatten\n",
    "            new_values = [] # List for flattened entries\n",
    "            for j in range(len(temp[i])): # Iterate over the dictionary\n",
    "                new_values.append( temp[i][j][key] ) # For the key, append values\n",
    "            clean_values.append(str(new_values) ) # Convert to string from list and append\n",
    "        else:\n",
    "            clean_values.append('') # Missing values get a blank\n",
    "    return clean_values"
   ]
  },
  {
   "cell_type": "code",
   "execution_count": 27,
   "id": "95761302-8b72-438f-8ea8-6ece1dd93f6b",
   "metadata": {
    "tags": []
   },
   "outputs": [
    {
     "data": {
      "text/plain": [
       "<Axes: >"
      ]
     },
     "execution_count": 27,
     "metadata": {},
     "output_type": "execute_result"
    },
    {
     "data": {
      "image/png": "[encoded data removed]",
      "text/plain": [
       "<Figure size 640x480 with 1 Axes>"
      ]
     },
     "metadata": {},
     "output_type": "display_data"
    }
   ],
   "source": [
    "df['mnf_country'] = flatten('ManufacturerCountries')\n",
    "df['mnf_country'].value_counts()\n",
    "df['mnf_country'].hist(grid=False,xrot=90)"
   ]
  },
  {
   "cell_type": "code",
   "execution_count": null,
   "id": "c55fe52c-f1df-4f0c-9d98-0aff9b2e764e",
   "metadata": {},
   "outputs": [],
   "source": [
    "#Question 5 "
   ]
  },
  {
   "cell_type": "code",
   "execution_count": 36,
   "id": "9443f293-3dff-4431-99bd-be71c5385e0c",
   "metadata": {
    "tags": []
   },
   "outputs": [
    {
     "name": "stdout",
     "output_type": "stream",
     "text": [
      "(1000, 27)\n",
      "       dr_no                date_rptd                 date_occ time_occ area  \\\n",
      "0  190326475  2020-03-01T00:00:00.000  2020-03-01T00:00:00.000     2130   07   \n",
      "1  200106753  2020-02-09T00:00:00.000  2020-02-08T00:00:00.000     1800   01   \n",
      "2  200320258  2020-11-11T00:00:00.000  2020-11-04T00:00:00.000     1700   03   \n",
      "3  200907217  2023-05-10T00:00:00.000  2020-03-10T00:00:00.000     2037   09   \n",
      "4  220614831  2022-08-18T00:00:00.000  2020-08-17T00:00:00.000     1200   06   \n",
      "\n",
      "   area_name rpt_dist_no part_1_2 crm_cd  \\\n",
      "0   Wilshire        0784        1    510   \n",
      "1    Central        0182        1    330   \n",
      "2  Southwest        0356        1    480   \n",
      "3   Van Nuys        0964        1    343   \n",
      "4  Hollywood        0666        2    354   \n",
      "\n",
      "                                crm_cd_desc  ... crm_cd_1 crm_cd_2  \\\n",
      "0                          VEHICLE - STOLEN  ...      510      998   \n",
      "1                     BURGLARY FROM VEHICLE  ...      330      998   \n",
      "2                             BIKE - STOLEN  ...      480      NaN   \n",
      "3  SHOPLIFTING-GRAND THEFT ($950.01 & OVER)  ...      343      NaN   \n",
      "4                         THEFT OF IDENTITY  ...      354      NaN   \n",
      "\n",
      "                                   location      lat        lon  \\\n",
      "0   1900 S  LONGWOOD                     AV  34.0375  -118.3506   \n",
      "1   1000 S  FLOWER                       ST  34.0444  -118.2628   \n",
      "2   1400 W  37TH                         ST   34.021  -118.3002   \n",
      "3  14000    RIVERSIDE                    DR  34.1576  -118.4387   \n",
      "4                         1900    TRANSIENT  34.0944  -118.3277   \n",
      "\n",
      "               mocodes weapon_used_cd weapon_desc cross_street crm_cd_3  \n",
      "0                  NaN            NaN         NaN          NaN      NaN  \n",
      "1       1822 1402 0344            NaN         NaN          NaN      NaN  \n",
      "2            0344 1251            NaN         NaN          NaN      NaN  \n",
      "3            0325 1501            NaN         NaN          NaN      NaN  \n",
      "4  1822 1501 0930 2004            NaN         NaN          NaN      NaN  \n",
      "\n",
      "[5 rows x 27 columns]\n"
     ]
    }
   ],
   "source": [
    "import requests\n",
    "import urllib.request\n",
    "import json\n",
    "\n",
    "url = 'https://data.lacity.org/resource/2nrs-mtv8.json'\n",
    "response = requests.get(url)\n",
    "data = response.json()\n",
    "df = pd.DataFrame(data)\n",
    "df.to_csv('LA_Crime.csv', index=False)  # index=False to avoid writing row numbers\n",
    "print(df.shape)\n",
    "print(df.head())\n"
   ]
  },
  {
   "cell_type": "code",
   "execution_count": null,
   "id": "3e1f8cea-4568-446d-aff4-47c348431f0a",
   "metadata": {},
   "outputs": [],
   "source": [
    "# I had a lot of trouble finding the correct API endpoint link for the above data, and subsquently "
   ]
  }
 ],
 "metadata": {
  "kernelspec": {
   "display_name": "PyTorch 2.4.0",
   "language": "python",
   "name": "pytorch-2.4.0"
  },
  "language_info": {
   "codemirror_mode": {
    "name": "ipython",
    "version": 3
   },
   "file_extension": ".py",
   "mimetype": "text/x-python",
   "name": "python",
   "nbconvert_exporter": "python",
   "pygments_lexer": "ipython3",
   "version": "3.10.12"
  }
 },
 "nbformat": 4,
 "nbformat_minor": 5
}
